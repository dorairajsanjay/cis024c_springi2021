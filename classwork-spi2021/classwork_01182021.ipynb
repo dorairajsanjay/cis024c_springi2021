{
 "cells": [
  {
   "cell_type": "markdown",
   "metadata": {},
   "source": [
    "## Lesson 9 - Command Line Parameters"
   ]
  },
  {
   "cell_type": "code",
   "execution_count": 2,
   "metadata": {},
   "outputs": [
    {
     "name": "stdout",
     "output_type": "stream",
     "text": [
      "Writing calc.py\n"
     ]
    }
   ],
   "source": [
    "%%writefile calc.py\n",
    "## this is my calculator\n",
    "\n",
    "def add(n1,n2):\n",
    "    return n1+n2\n",
    "\n",
    "x = int(input(\"Enter the first number:\"))\n",
    "y = int(input(\"Enter the second number:\"))\n",
    "\n",
    "print(\"Result:\",add(x,y))"
   ]
  },
  {
   "cell_type": "code",
   "execution_count": 1,
   "metadata": {},
   "outputs": [
    {
     "name": "stdout",
     "output_type": "stream",
     "text": [
      "/Users/sddorair/Personal/SJCC/cis24c/cis024c_springi_2021/classwork-spi2021\r\n"
     ]
    }
   ],
   "source": [
    "!pwd"
   ]
  },
  {
   "cell_type": "code",
   "execution_count": 3,
   "metadata": {},
   "outputs": [
    {
     "name": "stdout",
     "output_type": "stream",
     "text": [
      "Enter the first number:^C\n",
      "Traceback (most recent call last):\n",
      "  File \"calc.py\", line 6, in <module>\n",
      "    x = int(input(\"Enter the first number:\"))\n",
      "KeyboardInterrupt\n"
     ]
    }
   ],
   "source": [
    "!python calc.py "
   ]
  },
  {
   "cell_type": "code",
   "execution_count": 4,
   "metadata": {},
   "outputs": [
    {
     "name": "stdout",
     "output_type": "stream",
     "text": [
      "Overwriting calc.py\n"
     ]
    }
   ],
   "source": [
    "%%writefile calc.py\n",
    "## this is my calculator\n",
    "\n",
    "import sys\n",
    "\n",
    "def add(n1,n2):\n",
    "    return n1+n2\n",
    "\n",
    "x = int(sys.argv[1])\n",
    "y = int(sys.argv[2])\n",
    "\n",
    "print(\"Result:\",add(x,y))"
   ]
  },
  {
   "cell_type": "code",
   "execution_count": 5,
   "metadata": {},
   "outputs": [
    {
     "name": "stdout",
     "output_type": "stream",
     "text": [
      "Result: 5\r\n"
     ]
    }
   ],
   "source": [
    "!python calc.py 2 3\n"
   ]
  },
  {
   "cell_type": "code",
   "execution_count": null,
   "metadata": {},
   "outputs": [],
   "source": [
    "python calc.py -v -s -o * 2 3 4 5"
   ]
  },
  {
   "cell_type": "code",
   "execution_count": 24,
   "metadata": {},
   "outputs": [
    {
     "name": "stdout",
     "output_type": "stream",
     "text": [
      "Overwriting calc.py\n"
     ]
    }
   ],
   "source": [
    "%%writefile calc.py\n",
    "## this is my calculator\n",
    "\n",
    "import sys\n",
    "import argparse\n",
    "\n",
    "def add(n1,n2):\n",
    "    return n1+n2\n",
    "\n",
    "parser = argparse.ArgumentParser(description = \"Simple Calculator\")\n",
    "parser.add_argument('-s','--simple', action=\"store_true\",dest='simple')\n",
    "parser.add_argument('-v','--verbose', action=\"store_true\",dest='verbose')\n",
    "parser.add_argument('-o','--operator', action=\"store\",dest='op',type=str)\n",
    "parser.add_argument('-n1','--number1', action=\"store\",dest='n1',type=int)\n",
    "parser.add_argument('-n2','--number2', action=\"store\",dest='n2',type=int)\n",
    "\n",
    "args = parser.parse_args()\n",
    "\n",
    "print(\"operator:\",args.op)\n",
    "print(\"verbosity:\",args.verbose)\n",
    "print(\"simple:\",args.simple)\n",
    "\n",
    "print(\"Result:\",add(args.n1,args.n2))"
   ]
  },
  {
   "cell_type": "code",
   "execution_count": 26,
   "metadata": {},
   "outputs": [
    {
     "name": "stdout",
     "output_type": "stream",
     "text": [
      "operator: +\r\n",
      "verbosity: True\r\n",
      "simple: True\r\n",
      "Result: 10\r\n"
     ]
    }
   ],
   "source": [
    "!python calc.py -s -v -o '+' "
   ]
  },
  {
   "cell_type": "code",
   "execution_count": 36,
   "metadata": {},
   "outputs": [
    {
     "name": "stdout",
     "output_type": "stream",
     "text": [
      "Overwriting calc.py\n"
     ]
    }
   ],
   "source": [
    "%%writefile calc.py\n",
    "## this is my calculator\n",
    "\n",
    "import sys\n",
    "import argparse\n",
    "\n",
    "def add(number_list):\n",
    "    return sum(number_list)\n",
    "\n",
    "def multiply(number_list):\n",
    "    product = 1\n",
    "    for n in number_list:\n",
    "        product = product * n\n",
    "        \n",
    "    return product\n",
    "\n",
    "print(\"sys.args:\",sys.argv)\n",
    "\n",
    "parser = argparse.ArgumentParser(description = \"Simple Calculator\")\n",
    "parser.add_argument('-s','--simple', action=\"store_true\",dest='simple')\n",
    "parser.add_argument('-v','--verbose', action=\"store_true\",dest='verbose')\n",
    "parser.add_argument('-o','--operator', action=\"store\",dest='op',type=str)\n",
    "parser.add_argument('-n','--numbers', nargs=\"+\", action=\"store\",dest='numbers',type=int)\n",
    "\n",
    "args = parser.parse_args()\n",
    "\n",
    "print(\"operator:\",args.op)\n",
    "print(\"verbosity:\",args.verbose)\n",
    "print(\"simple:\",args.simple)\n",
    "print(\"numbers:\",args.numbers)\n",
    "\n",
    "if args.op and args.numbers:\n",
    "    if args.op == '+':\n",
    "        result = add(args.numbers)\n",
    "    elif args.op == '*':\n",
    "        result = multiply(args.numbers)\n",
    "    else:\n",
    "        print(\"Invalid operator\")\n",
    "        result = None\n",
    "        \n",
    "    print(\"Result:\", result)\n",
    "    "
   ]
  },
  {
   "cell_type": "code",
   "execution_count": 37,
   "metadata": {},
   "outputs": [
    {
     "name": "stdout",
     "output_type": "stream",
     "text": [
      "sys.args: ['calc.py', '-o', '*', '-n', '2', '3', '4', '5', '6']\r\n",
      "operator: *\r\n",
      "verbosity: False\r\n",
      "simple: False\r\n",
      "numbers: [2, 3, 4, 5, 6]\r\n",
      "Result: 720\r\n"
     ]
    }
   ],
   "source": [
    "!python calc.py -o '*' -n 2 3 4 5 6"
   ]
  },
  {
   "cell_type": "code",
   "execution_count": 35,
   "metadata": {},
   "outputs": [
    {
     "name": "stdout",
     "output_type": "stream",
     "text": [
      "usage: calc.py [-h] [-s] [-v] [-o OP] [-n NUMBERS [NUMBERS ...]]\r\n",
      "\r\n",
      "Simple Calculator\r\n",
      "\r\n",
      "optional arguments:\r\n",
      "  -h, --help            show this help message and exit\r\n",
      "  -s, --simple\r\n",
      "  -v, --verbose\r\n",
      "  -o OP, --operator OP\r\n",
      "  -n NUMBERS [NUMBERS ...], --numbers NUMBERS [NUMBERS ...]\r\n"
     ]
    }
   ],
   "source": [
    "!python calc.py -h"
   ]
  },
  {
   "cell_type": "markdown",
   "metadata": {},
   "source": [
    "## Object Oriented Programming"
   ]
  },
  {
   "cell_type": "code",
   "execution_count": 50,
   "metadata": {},
   "outputs": [],
   "source": [
    "last_result = 0\n",
    "\n",
    "def add(n1,n2):\n",
    "    global last_result\n",
    "    last_result = n1+n2\n",
    "    return last_result\n",
    "\n",
    "def multiply(n1,n2):\n",
    "    global last_result\n",
    "    last_result = n1*n2\n",
    "    return last_result\n",
    "\n",
    "def show_last_result():\n",
    "    print(\"Last result:\",last_result)"
   ]
  },
  {
   "cell_type": "code",
   "execution_count": 51,
   "metadata": {},
   "outputs": [
    {
     "name": "stdout",
     "output_type": "stream",
     "text": [
      "Enter the first number:2\n",
      "Enter the second number:3\n",
      "Result: 5\n"
     ]
    }
   ],
   "source": [
    "x = int(input(\"Enter the first number:\"))\n",
    "y = int(input(\"Enter the second number:\"))\n",
    "\n",
    "print(\"Result:\",add(x,y))"
   ]
  },
  {
   "cell_type": "code",
   "execution_count": 52,
   "metadata": {},
   "outputs": [
    {
     "name": "stdout",
     "output_type": "stream",
     "text": [
      "Last result: 5\n"
     ]
    }
   ],
   "source": [
    "show_last_result()"
   ]
  },
  {
   "cell_type": "code",
   "execution_count": 67,
   "metadata": {},
   "outputs": [
    {
     "name": "stdout",
     "output_type": "stream",
     "text": [
      "Writing calculator.py\n"
     ]
    }
   ],
   "source": [
    "%%writefile calculator.py\n",
    "\n",
    "class Calculator:\n",
    "    \n",
    "    def __init__(self):\n",
    "        self.last_result = 0\n",
    "        \n",
    "    def add(self,n1,n2):\n",
    "        self.last_result = n1+n2\n",
    "        return self.last_result\n",
    "\n",
    "    def multiply(self,n1,n2):\n",
    "        self.last_result = n1*n2\n",
    "        return self.last_result\n",
    "\n",
    "    def show_last_result(self):\n",
    "        print(\"Last result:\",self.last_result)"
   ]
  },
  {
   "cell_type": "code",
   "execution_count": 68,
   "metadata": {},
   "outputs": [],
   "source": [
    "import calculator"
   ]
  },
  {
   "cell_type": "code",
   "execution_count": 69,
   "metadata": {},
   "outputs": [],
   "source": [
    "calc = calculator.Calculator()"
   ]
  },
  {
   "cell_type": "code",
   "execution_count": 70,
   "metadata": {},
   "outputs": [
    {
     "name": "stdout",
     "output_type": "stream",
     "text": [
      "Last result: 0\n"
     ]
    }
   ],
   "source": [
    "calc.show_last_result()"
   ]
  },
  {
   "cell_type": "code",
   "execution_count": 71,
   "metadata": {},
   "outputs": [
    {
     "data": {
      "text/plain": [
       "5"
      ]
     },
     "execution_count": 71,
     "metadata": {},
     "output_type": "execute_result"
    }
   ],
   "source": [
    "calc.add(2,3)"
   ]
  },
  {
   "cell_type": "code",
   "execution_count": 62,
   "metadata": {},
   "outputs": [
    {
     "name": "stdout",
     "output_type": "stream",
     "text": [
      "Last result: 5\n"
     ]
    }
   ],
   "source": [
    "calc.show_last_result()"
   ]
  },
  {
   "cell_type": "code",
   "execution_count": 63,
   "metadata": {},
   "outputs": [
    {
     "data": {
      "text/plain": [
       "6"
      ]
     },
     "execution_count": 63,
     "metadata": {},
     "output_type": "execute_result"
    }
   ],
   "source": [
    "calc.multiply(2,3)"
   ]
  },
  {
   "cell_type": "code",
   "execution_count": 64,
   "metadata": {},
   "outputs": [
    {
     "name": "stdout",
     "output_type": "stream",
     "text": [
      "Last result: 6\n"
     ]
    }
   ],
   "source": [
    "calc.show_last_result()"
   ]
  },
  {
   "cell_type": "code",
   "execution_count": 65,
   "metadata": {},
   "outputs": [],
   "source": [
    "calc2  = Calculator()"
   ]
  },
  {
   "cell_type": "code",
   "execution_count": 66,
   "metadata": {},
   "outputs": [
    {
     "data": {
      "text/plain": [
       "7"
      ]
     },
     "execution_count": 66,
     "metadata": {},
     "output_type": "execute_result"
    }
   ],
   "source": [
    "calc2.add(3,4)"
   ]
  },
  {
   "cell_type": "code",
   "execution_count": 72,
   "metadata": {},
   "outputs": [
    {
     "name": "stdout",
     "output_type": "stream",
     "text": [
      "Last result: 5\n"
     ]
    }
   ],
   "source": [
    "class Calculator:\n",
    "    \n",
    "    def __init__(self):\n",
    "        self.last_result = 0\n",
    "        \n",
    "    def add(self,n1,n2):\n",
    "        self.last_result = n1+n2\n",
    "        return self.last_result\n",
    "\n",
    "    def multiply(self,n1,n2):\n",
    "        self.last_result = n1*n2\n",
    "        return self.last_result\n",
    "\n",
    "    def show_last_result(self):\n",
    "        print(\"Last result:\",self.last_result)\n",
    "        \n",
    "calc.show_last_result()"
   ]
  },
  {
   "cell_type": "markdown",
   "metadata": {},
   "source": [
    "## Debugging Scrabble function"
   ]
  },
  {
   "cell_type": "code",
   "execution_count": 86,
   "metadata": {},
   "outputs": [],
   "source": [
    "def is_word_valid(word, hand):\n",
    "    for letter in word:\n",
    "        print(\"letter:\",letter)\n",
    "        print(hand)\n",
    "        if hand.get(letter) is not None and hand.get(letter) != 0:\n",
    "            hand[letter] -= 1\n",
    "        else:\n",
    "            return False\n",
    "        \n",
    "    return True"
   ]
  },
  {
   "cell_type": "code",
   "execution_count": 87,
   "metadata": {},
   "outputs": [
    {
     "name": "stdout",
     "output_type": "stream",
     "text": [
      "letter: a\n",
      "{'a': 1, 'x': 2, 'l': 3, 'e': 1}\n",
      "letter: x\n",
      "{'a': 0, 'x': 2, 'l': 3, 'e': 1}\n"
     ]
    },
    {
     "data": {
      "text/plain": [
       "True"
      ]
     },
     "execution_count": 87,
     "metadata": {},
     "output_type": "execute_result"
    }
   ],
   "source": [
    "hand = {'a':1, 'x':2, 'l':3, 'e':1}\n",
    "is_word_valid('ax',hand)"
   ]
  },
  {
   "cell_type": "code",
   "execution_count": 88,
   "metadata": {},
   "outputs": [
    {
     "name": "stdout",
     "output_type": "stream",
     "text": [
      "letter: a\n",
      "{'a': 1, 'x': 2, 'l': 3, 'e': 1}\n",
      "letter: p\n",
      "{'a': 0, 'x': 2, 'l': 3, 'e': 1}\n"
     ]
    },
    {
     "data": {
      "text/plain": [
       "False"
      ]
     },
     "execution_count": 88,
     "metadata": {},
     "output_type": "execute_result"
    }
   ],
   "source": [
    "hand = {'a':1, 'x':2, 'l':3, 'e':1}\n",
    "is_word_valid('apple',hand)"
   ]
  },
  {
   "cell_type": "code",
   "execution_count": null,
   "metadata": {},
   "outputs": [],
   "source": []
  }
 ],
 "metadata": {
  "kernelspec": {
   "display_name": "Python 3",
   "language": "python",
   "name": "python3"
  },
  "language_info": {
   "codemirror_mode": {
    "name": "ipython",
    "version": 3
   },
   "file_extension": ".py",
   "mimetype": "text/x-python",
   "name": "python",
   "nbconvert_exporter": "python",
   "pygments_lexer": "ipython3",
   "version": "3.7.6"
  }
 },
 "nbformat": 4,
 "nbformat_minor": 4
}
